{
 "cells": [
  {
   "cell_type": "markdown",
   "id": "39a8b0b7-1d34-4572-aaa7-b3e0f8fbffa7",
   "metadata": {},
   "source": [
    "# Exploratory: Check column null percentage"
   ]
  },
  {
   "cell_type": "markdown",
   "id": "56b85317-85c8-492c-94aa-20975391835a",
   "metadata": {},
   "source": [
    "Summary: <br>\n",
    "This notebook is used to explore the SDG&E weather station data that was extracted via Synopic API.\n",
    "\n",
    "Open Questions: <br>"
   ]
  },
  {
   "cell_type": "code",
   "execution_count": 1,
   "id": "d5d8bbe0-b842-4580-b0fe-1482f5559619",
   "metadata": {},
   "outputs": [],
   "source": [
    "import pandas as pd\n",
    "\n",
    "pd.set_option(\"display.max_rows\", None, \"display.max_columns\", None)"
   ]
  },
  {
   "cell_type": "markdown",
   "id": "3197a2d9-05c5-43a9-891f-2ac6073cac4f",
   "metadata": {},
   "source": [
    "### Read in raw data"
   ]
  },
  {
   "cell_type": "code",
   "execution_count": 2,
   "id": "4257059b-4210-4592-bcd6-83abc256ee9c",
   "metadata": {},
   "outputs": [
    {
     "name": "stdout",
     "output_type": "stream",
     "text": [
      "CPU times: user 30.9 s, sys: 7.02 s, total: 37.9 s\n",
      "Wall time: 38 s\n"
     ]
    }
   ],
   "source": [
    "%%time\n",
    "weather_sdge_df = pd.read_csv(\"../../data/raw/weather_SDGE.csv\", header=[0, 1])\n",
    "weather_hpwren_df = pd.read_csv(\"../../data/raw/weather_HPWREN.csv\", header=[0, 1])\n",
    "weather_scedison_df = pd.read_csv(\"../../data/raw/weather_SC-EDISON.csv\", header=[0, 1])"
   ]
  },
  {
   "cell_type": "markdown",
   "id": "75e866ce-1970-4eb9-acba-1d567b673cc3",
   "metadata": {},
   "source": [
    "### Helper functions to calculate attribute null percentage and station null percentage"
   ]
  },
  {
   "cell_type": "code",
   "execution_count": 3,
   "id": "d05dacef-2928-44b4-aea2-c80d55600637",
   "metadata": {},
   "outputs": [],
   "source": [
    "def calc_att_null_percentage(df: pd.DataFrame) -> pd.DataFrame:\n",
    "    \"\"\"\n",
    "    Return dataframe with null percentage of each column given a weather data dataframe.\n",
    "    \"\"\"\n",
    "    rows = df.shape[0]\n",
    "    return pd.DataFrame(df.isna().sum() / rows * 100, columns=[\"null_percentage\"])"
   ]
  },
  {
   "cell_type": "code",
   "execution_count": 4,
   "id": "debc4537-e47f-4407-9aad-fc21e68b802c",
   "metadata": {},
   "outputs": [],
   "source": [
    "def calc_station_null_percentage(df: pd.DataFrame) -> pd.DataFrame:\n",
    "    \"\"\"\n",
    "    Return dataframe with null percentage of each column for each station given a weather data dataframe.\n",
    "    \"\"\"\n",
    "    tmp = df.set_index(\"Station_ID\")\n",
    "\n",
    "    # get null counts of each column for each station\n",
    "    station_df = tmp.isna().groupby(\"Station_ID\").sum()\n",
    "    # update index\n",
    "    # just take the station value in each list\n",
    "    orig_index = station_df.index.to_list()\n",
    "    new_index = [item[0] for item in orig_index]\n",
    "    station_df.index = pd.Index(new_index, name=\"Station_ID\")\n",
    "\n",
    "    # get the total row count for each station\n",
    "    counts_df = (\n",
    "        tmp[\"Date_Time\"]\n",
    "        .groupby(\"Station_ID\")\n",
    "        .count()\n",
    "        .rename(columns={\"Unnamed: 1_level_1\": \"row_count\"})\n",
    "    )\n",
    "    # update index\n",
    "    # just take the station value in each list\n",
    "    orig_index = counts_df.index.to_list()\n",
    "    new_index = [item[0] for item in orig_index]\n",
    "    counts_df.index = pd.Index(new_index, name=\"Station_ID\")\n",
    "\n",
    "    # calc null percentage\n",
    "    station_null_per_df = station_df.copy()\n",
    "    for station in counts_df.index:\n",
    "        # print(station)\n",
    "        # print(station_null_per_df.loc[station] / counts_df.loc[station][\"row_count\"])\n",
    "        # print(counts_df.loc[station][\"row_count\"])\n",
    "        station_null_per_df.loc[station] = (\n",
    "            station_null_per_df.loc[station] / counts_df.loc[station][\"row_count\"] * 100\n",
    "        )\n",
    "\n",
    "    return station_null_per_df"
   ]
  },
  {
   "cell_type": "markdown",
   "id": "23510c78-a2a7-4e85-902f-b08d9513b4f9",
   "metadata": {},
   "source": [
    "### Calc null percentages for each network"
   ]
  },
  {
   "cell_type": "markdown",
   "id": "7aaf9293-05d1-4b13-aa77-b6e8edc51a1d",
   "metadata": {},
   "source": [
    "#### SDGE"
   ]
  },
  {
   "cell_type": "code",
   "execution_count": 5,
   "id": "7694c71b-fce3-4364-b47e-ed6349519815",
   "metadata": {},
   "outputs": [
    {
     "data": {
      "text/plain": [
       "(19614476, 22)"
      ]
     },
     "execution_count": 5,
     "metadata": {},
     "output_type": "execute_result"
    }
   ],
   "source": [
    "weather_sdge_df.shape"
   ]
  },
  {
   "cell_type": "code",
   "execution_count": 6,
   "id": "015a0885-b7aa-44d6-9ce1-11fc968c9a08",
   "metadata": {},
   "outputs": [
    {
     "name": "stdout",
     "output_type": "stream",
     "text": [
      "CPU times: user 6.61 s, sys: 60.1 ms, total: 6.67 s\n",
      "Wall time: 6.66 s\n"
     ]
    },
    {
     "data": {
      "text/html": [
       "<div>\n",
       "<style scoped>\n",
       "    .dataframe tbody tr th:only-of-type {\n",
       "        vertical-align: middle;\n",
       "    }\n",
       "\n",
       "    .dataframe tbody tr th {\n",
       "        vertical-align: top;\n",
       "    }\n",
       "\n",
       "    .dataframe thead th {\n",
       "        text-align: right;\n",
       "    }\n",
       "</style>\n",
       "<table border=\"1\" class=\"dataframe\">\n",
       "  <thead>\n",
       "    <tr style=\"text-align: right;\">\n",
       "      <th></th>\n",
       "      <th></th>\n",
       "      <th>null_percentage</th>\n",
       "    </tr>\n",
       "  </thead>\n",
       "  <tbody>\n",
       "    <tr>\n",
       "      <th>Station_ID</th>\n",
       "      <th>Unnamed: 0_level_1</th>\n",
       "      <td>0.000000</td>\n",
       "    </tr>\n",
       "    <tr>\n",
       "      <th>Date_Time</th>\n",
       "      <th>Unnamed: 1_level_1</th>\n",
       "      <td>0.000000</td>\n",
       "    </tr>\n",
       "    <tr>\n",
       "      <th>air_temp_set_1</th>\n",
       "      <th>Celsius</th>\n",
       "      <td>0.199113</td>\n",
       "    </tr>\n",
       "    <tr>\n",
       "      <th>relative_humidity_set_1</th>\n",
       "      <th>%</th>\n",
       "      <td>0.156410</td>\n",
       "    </tr>\n",
       "    <tr>\n",
       "      <th>wind_speed_set_1</th>\n",
       "      <th>m/s</th>\n",
       "      <td>0.027709</td>\n",
       "    </tr>\n",
       "    <tr>\n",
       "      <th>volt_set_1</th>\n",
       "      <th>volts</th>\n",
       "      <td>63.775025</td>\n",
       "    </tr>\n",
       "    <tr>\n",
       "      <th>wind_gust_set_1</th>\n",
       "      <th>m/s</th>\n",
       "      <td>0.003671</td>\n",
       "    </tr>\n",
       "    <tr>\n",
       "      <th>wind_direction_set_1</th>\n",
       "      <th>Degrees</th>\n",
       "      <td>3.977985</td>\n",
       "    </tr>\n",
       "    <tr>\n",
       "      <th>dew_point_temperature_set_1d</th>\n",
       "      <th>Celsius</th>\n",
       "      <td>0.204645</td>\n",
       "    </tr>\n",
       "    <tr>\n",
       "      <th>wind_chill_set_1d</th>\n",
       "      <th>Celsius</th>\n",
       "      <td>97.645413</td>\n",
       "    </tr>\n",
       "    <tr>\n",
       "      <th>wind_cardinal_direction_set_1d</th>\n",
       "      <th>code</th>\n",
       "      <td>3.977985</td>\n",
       "    </tr>\n",
       "    <tr>\n",
       "      <th>heat_index_set_1d</th>\n",
       "      <th>Celsius</th>\n",
       "      <td>90.438246</td>\n",
       "    </tr>\n",
       "    <tr>\n",
       "      <th>altimeter_set_1</th>\n",
       "      <th>Pascals</th>\n",
       "      <td>100.000000</td>\n",
       "    </tr>\n",
       "    <tr>\n",
       "      <th>pressure_set_1</th>\n",
       "      <th>Pascals</th>\n",
       "      <td>100.000000</td>\n",
       "    </tr>\n",
       "    <tr>\n",
       "      <th>solar_radiation_set_1</th>\n",
       "      <th>W/m**2</th>\n",
       "      <td>98.507327</td>\n",
       "    </tr>\n",
       "    <tr>\n",
       "      <th>pressure_set_1d</th>\n",
       "      <th>Pascals</th>\n",
       "      <td>100.000000</td>\n",
       "    </tr>\n",
       "    <tr>\n",
       "      <th rowspan=\"2\" valign=\"top\">sea_level_pressure_set_1d</th>\n",
       "      <th>Pascals</th>\n",
       "      <td>100.000000</td>\n",
       "    </tr>\n",
       "    <tr>\n",
       "      <th>Pascals.1</th>\n",
       "      <td>100.000000</td>\n",
       "    </tr>\n",
       "    <tr>\n",
       "      <th>wet_bulb_temperature_set_1d</th>\n",
       "      <th>Celsius</th>\n",
       "      <td>100.000000</td>\n",
       "    </tr>\n",
       "    <tr>\n",
       "      <th>altimeter_set_1d</th>\n",
       "      <th>Pascals</th>\n",
       "      <td>100.000000</td>\n",
       "    </tr>\n",
       "    <tr>\n",
       "      <th>fuel_temp_set_1</th>\n",
       "      <th>Celsius</th>\n",
       "      <td>100.000000</td>\n",
       "    </tr>\n",
       "    <tr>\n",
       "      <th>precip_accum_ten_minute_set_1</th>\n",
       "      <th>Millimeters</th>\n",
       "      <td>100.000000</td>\n",
       "    </tr>\n",
       "  </tbody>\n",
       "</table>\n",
       "</div>"
      ],
      "text/plain": [
       "                                                   null_percentage\n",
       "Station_ID                     Unnamed: 0_level_1         0.000000\n",
       "Date_Time                      Unnamed: 1_level_1         0.000000\n",
       "air_temp_set_1                 Celsius                    0.199113\n",
       "relative_humidity_set_1        %                          0.156410\n",
       "wind_speed_set_1               m/s                        0.027709\n",
       "volt_set_1                     volts                     63.775025\n",
       "wind_gust_set_1                m/s                        0.003671\n",
       "wind_direction_set_1           Degrees                    3.977985\n",
       "dew_point_temperature_set_1d   Celsius                    0.204645\n",
       "wind_chill_set_1d              Celsius                   97.645413\n",
       "wind_cardinal_direction_set_1d code                       3.977985\n",
       "heat_index_set_1d              Celsius                   90.438246\n",
       "altimeter_set_1                Pascals                  100.000000\n",
       "pressure_set_1                 Pascals                  100.000000\n",
       "solar_radiation_set_1          W/m**2                    98.507327\n",
       "pressure_set_1d                Pascals                  100.000000\n",
       "sea_level_pressure_set_1d      Pascals                  100.000000\n",
       "                               Pascals.1                100.000000\n",
       "wet_bulb_temperature_set_1d    Celsius                  100.000000\n",
       "altimeter_set_1d               Pascals                  100.000000\n",
       "fuel_temp_set_1                Celsius                  100.000000\n",
       "precip_accum_ten_minute_set_1  Millimeters              100.000000"
      ]
     },
     "execution_count": 6,
     "metadata": {},
     "output_type": "execute_result"
    }
   ],
   "source": [
    "%%time\n",
    "calc_att_null_percentage(weather_sdge_df)"
   ]
  },
  {
   "cell_type": "code",
   "execution_count": null,
   "id": "0ef1e4e9-8cdf-4e4d-b1c6-6e1f2a13f2d0",
   "metadata": {},
   "outputs": [],
   "source": [
    "%%time\n",
    "sdge_station_null_per_df = calc_station_null_percentage(weather_sdge_df)\n",
    "sdge_station_null_per_df"
   ]
  },
  {
   "cell_type": "markdown",
   "id": "718f9406-46b0-4933-a0d4-f6b7bb01a050",
   "metadata": {},
   "source": [
    "#### HPWREN"
   ]
  },
  {
   "cell_type": "code",
   "execution_count": null,
   "id": "53b4bad6-9933-4ece-9fbd-86411bfaad49",
   "metadata": {},
   "outputs": [],
   "source": [
    "weather_hpwren_df.shape"
   ]
  },
  {
   "cell_type": "code",
   "execution_count": null,
   "id": "0d380458-00ec-4463-b72d-cbc8714f34a8",
   "metadata": {},
   "outputs": [],
   "source": [
    "%%time\n",
    "calc_att_null_percentage(weather_hpwren_df)"
   ]
  },
  {
   "cell_type": "code",
   "execution_count": null,
   "id": "61a016ba-5a9b-470b-a912-2494b7fbea6d",
   "metadata": {},
   "outputs": [],
   "source": [
    "%%time\n",
    "hpwren_station_null_per_df = calc_station_null_percentage(weather_hpwren_df)\n",
    "hpwren_station_null_per_df\n",
    "\n",
    "# via trial and error there are 4 hpwren stations with > 20% null percentage for wind speed; these will be manually filtered out and reprocessed\n",
    "# HP003, HP006 (100%), HP015, HP025"
   ]
  },
  {
   "cell_type": "markdown",
   "id": "2035accf-4059-4374-9268-51d021ba8228",
   "metadata": {},
   "source": [
    "#### SC-EDISON"
   ]
  },
  {
   "cell_type": "code",
   "execution_count": null,
   "id": "01c8a860-a5ab-476e-9875-f1882ff9f87e",
   "metadata": {},
   "outputs": [],
   "source": [
    "weather_scedison_df.shape"
   ]
  },
  {
   "cell_type": "code",
   "execution_count": null,
   "id": "db5be484-33d2-4d52-9dfd-d0f19e85d9dc",
   "metadata": {},
   "outputs": [],
   "source": [
    "%%time\n",
    "calc_att_null_percentage(weather_scedison_df)"
   ]
  },
  {
   "cell_type": "code",
   "execution_count": null,
   "id": "2b851a32-0da2-47dd-9223-f0a4691db156",
   "metadata": {},
   "outputs": [],
   "source": [
    "%%time\n",
    "scedison_station_null_per_df = calc_station_null_percentage(weather_scedison_df)\n",
    "scedison_station_null_per_df"
   ]
  },
  {
   "cell_type": "markdown",
   "id": "2062dcd1-e16e-4ca7-86f4-1b5f1a759737",
   "metadata": {},
   "source": [
    "## Check wind direction nulls\n",
    "\n",
    "Is wind direction null only when wind speed is 0? -> Primarily yes. Wind speed=0 accounts for 99.99% of null wind directions."
   ]
  },
  {
   "cell_type": "code",
   "execution_count": null,
   "id": "bcc2c063-b854-4a65-8547-66af849ad9ac",
   "metadata": {},
   "outputs": [],
   "source": [
    "weather_sdge_df[weather_sdge_df[\"wind_direction_set_1\"][\"Degrees\"].isna()][\n",
    "    \"wind_speed_set_1\"\n",
    "][\"m/s\"].value_counts(normalize=True) * 100"
   ]
  },
  {
   "cell_type": "code",
   "execution_count": null,
   "id": "a14ccb76-d39e-434b-b229-fa1ceb72f22d",
   "metadata": {},
   "outputs": [],
   "source": [
    "weather_hpwren_df[weather_hpwren_df[\"wind_direction_set_1\"][\"Degrees\"].isna()][\n",
    "    \"wind_speed_set_1\"\n",
    "][\"m/s\"].value_counts(normalize=True) * 100"
   ]
  },
  {
   "cell_type": "code",
   "execution_count": null,
   "id": "0c0cf802-8be6-41c3-8eb4-1374b8edb8ba",
   "metadata": {},
   "outputs": [],
   "source": [
    "weather_scedison_df[weather_scedison_df[\"wind_direction_set_1\"][\"Degrees\"].isna()][\n",
    "    \"wind_speed_set_1\"\n",
    "][\"m/s\"].value_counts(normalize=True) * 100"
   ]
  },
  {
   "cell_type": "markdown",
   "id": "f6ef9000-d9c3-412e-8cd2-f5b2e74bbf6e",
   "metadata": {},
   "source": [
    "### Read in processed data"
   ]
  },
  {
   "cell_type": "code",
   "execution_count": null,
   "id": "33f65b23-afcf-48aa-a3a1-ed0386b63149",
   "metadata": {},
   "outputs": [],
   "source": [
    "%%time\n",
    "weather_sdge_df2 = pd.read_csv(\"../../data/processed/weather_SDGE.csv\", header=[0, 1])\n",
    "weather_hpwren_df2 = pd.read_csv(\n",
    "    \"../../data/processed/weather_HPWREN.csv\", header=[0, 1]\n",
    ")\n",
    "weather_scedison_df2 = pd.read_csv(\n",
    "    \"../../data/processed/weather_SC-EDISON.csv\", header=[0, 1]\n",
    ")"
   ]
  },
  {
   "cell_type": "markdown",
   "id": "8d4e5b4b-4b23-4a3f-9f23-cb6be23bb9bc",
   "metadata": {},
   "source": [
    "### Concat to single weather dataframe"
   ]
  },
  {
   "cell_type": "code",
   "execution_count": null,
   "id": "0d7e00a2-34b0-4262-9ad6-cbb5bc7aab95",
   "metadata": {},
   "outputs": [],
   "source": [
    "weather_df2 = pd.concat([weather_sdge_df2, weather_hpwren_df2, weather_scedison_df2])"
   ]
  },
  {
   "cell_type": "markdown",
   "id": "f7276054-9e79-444c-99a6-c881763faacc",
   "metadata": {},
   "source": [
    "### Check interval counts\n",
    "\n",
    "Are all stations on 10 minute intervals?"
   ]
  },
  {
   "cell_type": "code",
   "execution_count": null,
   "id": "14356df5-929a-4eb7-a95e-027ded2aa45f",
   "metadata": {},
   "outputs": [],
   "source": [
    "interval_df = weather_sdge_df[\"Date_Time\"][\"Unnamed: 1_level_1\"].str.split(\n",
    "    \"T\", expand=True\n",
    ")"
   ]
  },
  {
   "cell_type": "code",
   "execution_count": null,
   "id": "26db4603-c056-4ea6-a458-861d66f6af26",
   "metadata": {},
   "outputs": [],
   "source": [
    "interval_df[[1]].value_counts().sort_index()"
   ]
  },
  {
   "cell_type": "code",
   "execution_count": null,
   "id": "07b1c9da-960c-4caf-995f-96bbae361ad2",
   "metadata": {},
   "outputs": [],
   "source": []
  }
 ],
 "metadata": {
  "kernelspec": {
   "display_name": "Python 3 (ipykernel)",
   "language": "python",
   "name": "python3"
  },
  "language_info": {
   "codemirror_mode": {
    "name": "ipython",
    "version": 3
   },
   "file_extension": ".py",
   "mimetype": "text/x-python",
   "name": "python",
   "nbconvert_exporter": "python",
   "pygments_lexer": "ipython3",
   "version": "3.8.9"
  }
 },
 "nbformat": 4,
 "nbformat_minor": 5
}

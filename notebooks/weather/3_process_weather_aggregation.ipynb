{
 "cells": [
  {
   "cell_type": "code",
   "execution_count": 1,
   "id": "44226299-9a69-4429-bdd2-fba431d75564",
   "metadata": {},
   "outputs": [],
   "source": [
    "#importing all the required libaries \n",
    "import pandas as pd\n",
    "import os\n",
    "import os.path\n",
    "import numpy as np\n",
    "import shutil\n",
    "import glob"
   ]
  },
  {
   "cell_type": "markdown",
   "id": "63a03c83-01de-491e-9c36-4399d86b0c56",
   "metadata": {},
   "source": [
    "### Import the path where the weather raw data is stored"
   ]
  },
  {
   "cell_type": "code",
   "execution_count": 2,
   "id": "5f70438c-cea1-46c3-a38d-a7e004f36ac3",
   "metadata": {},
   "outputs": [
    {
     "data": {
      "text/plain": [
       "'C:\\\\Users\\\\raramachandr\\\\OneDrive - NVIDIA Corporation\\\\Documents\\\\Personal\\\\Masters_files_desktop\\\\project\\\\New_files\\\\smokeynet-engineering-main1\\\\data\\\\processed'"
      ]
     },
     "execution_count": 2,
     "metadata": {},
     "output_type": "execute_result"
    }
   ],
   "source": [
    "path = os.getcwd()\n",
    "path_add = os.path.normpath(\"../../data/processed/\")\n",
    "weather_data_file_path= os.path.normpath(path + os.sep + path_add)\n",
    "weather_data_file_path"
   ]
  },
  {
   "cell_type": "markdown",
   "id": "4cd11454-79cd-427d-9cab-0867d0d7cfd8",
   "metadata": {},
   "source": [
    "### Import the camera_to_weather_station mapping file"
   ]
  },
  {
   "cell_type": "code",
   "execution_count": 3,
   "id": "d9b8d53d-cb1c-4663-ba12-cacb41bec8d4",
   "metadata": {},
   "outputs": [
    {
     "data": {
      "text/html": [
       "<div>\n",
       "<style scoped>\n",
       "    .dataframe tbody tr th:only-of-type {\n",
       "        vertical-align: middle;\n",
       "    }\n",
       "\n",
       "    .dataframe tbody tr th {\n",
       "        vertical-align: top;\n",
       "    }\n",
       "\n",
       "    .dataframe thead th {\n",
       "        text-align: right;\n",
       "    }\n",
       "</style>\n",
       "<table border=\"1\" class=\"dataframe\">\n",
       "  <thead>\n",
       "    <tr style=\"text-align: right;\">\n",
       "      <th></th>\n",
       "      <th>camera_id</th>\n",
       "      <th>image_id</th>\n",
       "      <th>stid</th>\n",
       "      <th>shortname</th>\n",
       "      <th>distance_m</th>\n",
       "      <th>distance_mi</th>\n",
       "      <th>is_in_direction</th>\n",
       "      <th>rn</th>\n",
       "    </tr>\n",
       "  </thead>\n",
       "  <tbody>\n",
       "    <tr>\n",
       "      <th>0</th>\n",
       "      <td>hpwren0_unknown direction</td>\n",
       "      <td>tje-1-mobo-c</td>\n",
       "      <td>BFDSD</td>\n",
       "      <td>SDGE</td>\n",
       "      <td>2362.963219</td>\n",
       "      <td>1.468277</td>\n",
       "      <td>NaN</td>\n",
       "      <td>1</td>\n",
       "    </tr>\n",
       "    <tr>\n",
       "      <th>1</th>\n",
       "      <td>hpwren0_unknown direction</td>\n",
       "      <td>tje-1-mobo-c</td>\n",
       "      <td>CVXSD</td>\n",
       "      <td>SDGE</td>\n",
       "      <td>8161.908209</td>\n",
       "      <td>5.071575</td>\n",
       "      <td>NaN</td>\n",
       "      <td>2</td>\n",
       "    </tr>\n",
       "    <tr>\n",
       "      <th>2</th>\n",
       "      <td>hpwren0_unknown direction</td>\n",
       "      <td>tje-1-mobo-c</td>\n",
       "      <td>DJZSD</td>\n",
       "      <td>SDGE</td>\n",
       "      <td>10216.081526</td>\n",
       "      <td>6.347979</td>\n",
       "      <td>NaN</td>\n",
       "      <td>3</td>\n",
       "    </tr>\n",
       "    <tr>\n",
       "      <th>3</th>\n",
       "      <td>hpwren1_north</td>\n",
       "      <td>bm-n-mobo-c</td>\n",
       "      <td>MGDSD</td>\n",
       "      <td>SDGE</td>\n",
       "      <td>4635.802946</td>\n",
       "      <td>2.880554</td>\n",
       "      <td>True</td>\n",
       "      <td>1</td>\n",
       "    </tr>\n",
       "    <tr>\n",
       "      <th>4</th>\n",
       "      <td>hpwren1_north</td>\n",
       "      <td>bm-n-mobo-c</td>\n",
       "      <td>HP004</td>\n",
       "      <td>HPWREN</td>\n",
       "      <td>5385.340294</td>\n",
       "      <td>3.346295</td>\n",
       "      <td>True</td>\n",
       "      <td>2</td>\n",
       "    </tr>\n",
       "  </tbody>\n",
       "</table>\n",
       "</div>"
      ],
      "text/plain": [
       "                   camera_id      image_id   stid shortname    distance_m  \\\n",
       "0  hpwren0_unknown direction  tje-1-mobo-c  BFDSD      SDGE   2362.963219   \n",
       "1  hpwren0_unknown direction  tje-1-mobo-c  CVXSD      SDGE   8161.908209   \n",
       "2  hpwren0_unknown direction  tje-1-mobo-c  DJZSD      SDGE  10216.081526   \n",
       "3              hpwren1_north   bm-n-mobo-c  MGDSD      SDGE   4635.802946   \n",
       "4              hpwren1_north   bm-n-mobo-c  HP004    HPWREN   5385.340294   \n",
       "\n",
       "   distance_mi is_in_direction  rn  \n",
       "0     1.468277             NaN   1  \n",
       "1     5.071575             NaN   2  \n",
       "2     6.347979             NaN   3  \n",
       "3     2.880554            True   1  \n",
       "4     3.346295            True   2  "
      ]
     },
     "execution_count": 3,
     "metadata": {},
     "output_type": "execute_result"
    }
   ],
   "source": [
    "camera_station_mapping = pd.read_csv(\"../../data/processed/camera_station_mappings.csv\")\n",
    "camera_station_mapping.head()"
   ]
  },
  {
   "cell_type": "code",
   "execution_count": 4,
   "id": "341b198e-9b50-4330-8941-a4951af0af87",
   "metadata": {},
   "outputs": [
    {
     "data": {
      "text/plain": [
       "(391, 8)"
      ]
     },
     "execution_count": 4,
     "metadata": {},
     "output_type": "execute_result"
    }
   ],
   "source": [
    "camera_station_mapping.shape"
   ]
  },
  {
   "cell_type": "markdown",
   "id": "4faab178-d605-4e75-86ad-cd8f7299257d",
   "metadata": {},
   "source": [
    "### Import the camera ID to camera_name file (provided in Fiblib_files)"
   ]
  },
  {
   "cell_type": "code",
   "execution_count": 5,
   "id": "2aa44bbf-2603-456f-943e-afc6b787682c",
   "metadata": {},
   "outputs": [
    {
     "data": {
      "text/html": [
       "<div>\n",
       "<style scoped>\n",
       "    .dataframe tbody tr th:only-of-type {\n",
       "        vertical-align: middle;\n",
       "    }\n",
       "\n",
       "    .dataframe tbody tr th {\n",
       "        vertical-align: top;\n",
       "    }\n",
       "\n",
       "    .dataframe thead th {\n",
       "        text-align: right;\n",
       "    }\n",
       "</style>\n",
       "<table border=\"1\" class=\"dataframe\">\n",
       "  <thead>\n",
       "    <tr style=\"text-align: right;\">\n",
       "      <th></th>\n",
       "      <th>camera_id</th>\n",
       "      <th>camera_name</th>\n",
       "    </tr>\n",
       "  </thead>\n",
       "  <tbody>\n",
       "    <tr>\n",
       "      <th>0</th>\n",
       "      <td>hpwren0_unknown direction</td>\n",
       "      <td>tje-1-mobo-c</td>\n",
       "    </tr>\n",
       "    <tr>\n",
       "      <th>1</th>\n",
       "      <td>hpwren1_north</td>\n",
       "      <td>bm-n-mobo-c</td>\n",
       "    </tr>\n",
       "    <tr>\n",
       "      <th>2</th>\n",
       "      <td>hpwren1_east</td>\n",
       "      <td>bm-e-mobo-c</td>\n",
       "    </tr>\n",
       "    <tr>\n",
       "      <th>3</th>\n",
       "      <td>hpwren1_south</td>\n",
       "      <td>bm-s-mobo-c</td>\n",
       "    </tr>\n",
       "    <tr>\n",
       "      <th>4</th>\n",
       "      <td>hpwren1_west</td>\n",
       "      <td>bm-w-mobo-c</td>\n",
       "    </tr>\n",
       "  </tbody>\n",
       "</table>\n",
       "</div>"
      ],
      "text/plain": [
       "                   camera_id   camera_name\n",
       "0  hpwren0_unknown direction  tje-1-mobo-c\n",
       "1              hpwren1_north   bm-n-mobo-c\n",
       "2               hpwren1_east   bm-e-mobo-c\n",
       "3              hpwren1_south   bm-s-mobo-c\n",
       "4               hpwren1_west   bm-w-mobo-c"
      ]
     },
     "execution_count": 5,
     "metadata": {},
     "output_type": "execute_result"
    }
   ],
   "source": [
    "camera_station_mapping2 = pd.read_csv(\"../../data/processed/camera_image_id_mappings.csv\")\n",
    "camera_station_mapping2.rename(columns= { \"image_id\" : \"camera_name\"},inplace=True)\n",
    "camera_station_mapping2 = camera_station_mapping2[['camera_id','camera_name']]\n",
    "camera_station_mapping2.head()"
   ]
  },
  {
   "cell_type": "code",
   "execution_count": null,
   "id": "8f5b5d68-4072-4641-9693-8a86c44c0d97",
   "metadata": {},
   "outputs": [],
   "source": []
  },
  {
   "cell_type": "markdown",
   "id": "f40a9d09-12fc-4e79-9d8b-f8431e519350",
   "metadata": {},
   "source": [
    "### Merge both the mappnig files"
   ]
  },
  {
   "cell_type": "code",
   "execution_count": 6,
   "id": "f1318ac5-cb1b-480e-961b-1968cc1785d6",
   "metadata": {},
   "outputs": [],
   "source": [
    "camera_station_mapping3 = pd.merge(camera_station_mapping,camera_station_mapping2, how='left', left_on =\"camera_id\", right_on = \"camera_id\")"
   ]
  },
  {
   "cell_type": "markdown",
   "id": "5eb534f1-6529-4720-86bd-4261d57a8712",
   "metadata": {},
   "source": [
    "### Calculate inverse distance of every weather station so that closest station get higest weight"
   ]
  },
  {
   "cell_type": "code",
   "execution_count": 7,
   "id": "70b07562-5601-4b89-957a-22a8db30d305",
   "metadata": {},
   "outputs": [],
   "source": [
    "# Find max distance and subract from the distance column (to get inverse of distance)\n",
    "max_distance_calculated = camera_station_mapping3.distance_mi.max()+1\n",
    "camera_station_mapping3[\"distance_mi_inverse\"] = max_distance_calculated - camera_station_mapping3[\"distance_mi\"]\n",
    "#camera_station_mapping3.head()"
   ]
  },
  {
   "cell_type": "markdown",
   "id": "90dbe146-05e7-4253-92fa-33bc73202dce",
   "metadata": {},
   "source": [
    "### Split the weather data into multiple small chuck of file."
   ]
  },
  {
   "cell_type": "code",
   "execution_count": 8,
   "id": "d9491f98-426b-435f-8dbb-fef511eec904",
   "metadata": {},
   "outputs": [],
   "source": [
    "class FileSettings(object):\n",
    "    def __init__(self, file_name, row_size=1000000):\n",
    "        self.file_name = file_name\n",
    "        self.row_size = row_size\n",
    "\n",
    "\n",
    "class FileSplitter(object):\n",
    "\n",
    "    def __init__(self, file_settings):\n",
    "        self.file_settings = file_settings\n",
    "\n",
    "        if type(self.file_settings).__name__ != \"FileSettings\":\n",
    "            raise Exception(\"Please pass correct instance \")\n",
    "\n",
    "        self.df = pd.read_csv(self.file_settings.file_name,\n",
    "                              chunksize=self.file_settings.row_size)\n",
    "\n",
    "    def run(self, directory=\"split_files\"):\n",
    "        try:os.makedirs(directory)\n",
    "        except Exception as e:pass\n",
    "\n",
    "        counter = 0\n",
    "\n",
    "        while True:\n",
    "            try:\n",
    "                file_name = \"{}/{}_{}_row_{}.csv\".format(\n",
    "                    directory,  self.file_settings.file_name.split(\".\")[0], counter, self.file_settings.row_size\n",
    "                ) \n",
    "                df = next(self.df).to_csv(file_name,index =False)\n",
    "                counter = counter + 1\n",
    "            except StopIteration:\n",
    "                break\n",
    "            except Exception as e:\n",
    "                print(\"Error:\",e)\n",
    "                break\n",
    "\n",
    "        return True"
   ]
  },
  {
   "cell_type": "code",
   "execution_count": null,
   "id": "7d758c3e-7832-4178-a12f-f9de14031187",
   "metadata": {},
   "outputs": [],
   "source": []
  },
  {
   "cell_type": "code",
   "execution_count": null,
   "id": "b74b37a9-b99c-4110-abf6-fc367a3a7737",
   "metadata": {},
   "outputs": [],
   "source": []
  },
  {
   "cell_type": "code",
   "execution_count": 9,
   "id": "391830d7-1c91-45ad-810b-97e2ab9a6889",
   "metadata": {},
   "outputs": [
    {
     "name": "stderr",
     "output_type": "stream",
     "text": [
      "C:\\ProgramData\\Anaconda3\\lib\\site-packages\\IPython\\core\\interactiveshell.py:3444: DtypeWarning: Columns (2,3,4,5,6,7) have mixed types.Specify dtype option on import or set low_memory=False.\n",
      "  exec(code_obj, self.user_global_ns, self.user_ns)\n"
     ]
    },
    {
     "data": {
      "text/plain": [
       "True"
      ]
     },
     "execution_count": 9,
     "metadata": {},
     "output_type": "execute_result"
    }
   ],
   "source": [
    "### Run the filter spliter for the 3 group of weather Stations\n",
    "os.chdir(weather_data_file_path)\n",
    "\n",
    "helper =  FileSplitter(FileSettings(\n",
    "    file_name='weather_HPWREN.csv',\n",
    "    row_size=2000000\n",
    "))\n",
    "helper.run()\n",
    "\n",
    "helper =  FileSplitter(FileSettings(\n",
    "    file_name='weather_SC-EDISON.csv',\n",
    "    row_size=2000000\n",
    "))\n",
    "helper.run()\n",
    "\n",
    "helper =  FileSplitter(FileSettings(\n",
    "    file_name='weather_SDGE.csv',\n",
    "    row_size=2000000\n",
    "))\n",
    "helper.run()"
   ]
  },
  {
   "cell_type": "markdown",
   "id": "907eb60b-106e-45a6-b6cd-22af600d2d34",
   "metadata": {
    "tags": []
   },
   "source": [
    "### Create the folder inside the temp directory weather_data by weatherstation directory"
   ]
  },
  {
   "cell_type": "code",
   "execution_count": 10,
   "id": "24dcdf4d-42f1-4470-96ad-743b1defd099",
   "metadata": {},
   "outputs": [],
   "source": [
    "weather_data_file_path_split = weather_data_file_path + r'\\split_files'\n",
    "os.chdir(weather_data_file_path_split)\n",
    "shutil.rmtree(weather_data_file_path_split +r'\\ByWeatherStation',ignore_errors=True)\n",
    "\n",
    "weather_split_file_list =  glob.glob('*.csv')\n",
    "try:os.makedirs(\"ByWeatherStation\")\n",
    "except Exception as e:pass"
   ]
  },
  {
   "cell_type": "code",
   "execution_count": 11,
   "id": "6a508ac1-4ae7-455f-9d83-2c6a7ef2184a",
   "metadata": {},
   "outputs": [
    {
     "data": {
      "text/plain": [
       "['weather_HPWREN_0_row_2000000.csv',\n",
       " 'weather_HPWREN_1_row_2000000.csv',\n",
       " 'weather_SC-EDISON_0_row_2000000.csv',\n",
       " 'weather_SC-EDISON_1_row_2000000.csv',\n",
       " 'weather_SC-EDISON_2_row_2000000.csv',\n",
       " 'weather_SC-EDISON_3_row_2000000.csv',\n",
       " 'weather_SDGE_0_row_2000000.csv',\n",
       " 'weather_SDGE_10_row_2000000.csv',\n",
       " 'weather_SDGE_11_row_2000000.csv',\n",
       " 'weather_SDGE_1_row_2000000.csv',\n",
       " 'weather_SDGE_2_row_2000000.csv',\n",
       " 'weather_SDGE_3_row_2000000.csv',\n",
       " 'weather_SDGE_4_row_2000000.csv',\n",
       " 'weather_SDGE_5_row_2000000.csv',\n",
       " 'weather_SDGE_6_row_2000000.csv',\n",
       " 'weather_SDGE_7_row_2000000.csv',\n",
       " 'weather_SDGE_8_row_2000000.csv',\n",
       " 'weather_SDGE_9_row_2000000.csv']"
      ]
     },
     "execution_count": 11,
     "metadata": {},
     "output_type": "execute_result"
    }
   ],
   "source": [
    "weather_split_file_list"
   ]
  },
  {
   "cell_type": "markdown",
   "id": "0b4a4d47-4198-4708-b9a2-16c29563c52e",
   "metadata": {},
   "source": [
    "### split the weather data by station"
   ]
  },
  {
   "cell_type": "code",
   "execution_count": 12,
   "id": "383678cc-5e69-4215-a652-e4e539c18524",
   "metadata": {},
   "outputs": [],
   "source": [
    "def split_weather_station_by_file (file_weather_data):\n",
    "    file_chunk_number = int(file_weather_data.split('_row_')[0].split(\"_\")[-1])\n",
    "    if(file_chunk_number == 0):\n",
    "        temp_file1_df = pd.read_csv(file_weather_data,header=[0,1])\n",
    "        temp_file1_df.columns = temp_file1_df.columns.droplevel(1)\n",
    "    else:\n",
    "        temp_file1_df = pd.read_csv(file_weather_data)\n",
    "    \n",
    "    weather_stid_in_temp_file = temp_file1_df.Station_ID.unique()\n",
    "    for j in range(len(weather_stid_in_temp_file)):\n",
    "        temp_weather_stid = weather_stid_in_temp_file[j]\n",
    "        temp_file_iter = temp_file1_df[temp_file1_df.Station_ID == temp_weather_stid]\n",
    "        if (temp_weather_stid+\".csv\" in os.listdir(r\"ByWeatherStation/\")):\n",
    "            file_1 = pd.read_csv(r\"ByWeatherStation/\"+temp_weather_stid+\".csv\")\n",
    "            file_1 = pd.concat([file_1,temp_file_iter])\n",
    "            file_1.to_csv(r\"ByWeatherStation/\"+temp_weather_stid+\".csv\",index = False)\n",
    "        else:\n",
    "            temp_file_iter.to_csv(r\"ByWeatherStation/\"+temp_weather_stid+\".csv\", index = False)"
   ]
  },
  {
   "cell_type": "code",
   "execution_count": 13,
   "id": "92beaa29-4c89-45ab-a4a2-054a73849b82",
   "metadata": {},
   "outputs": [],
   "source": [
    "for i in range(len(weather_split_file_list)):\n",
    "    file_weather_data = weather_split_file_list [i]\n",
    "    split_weather_station_by_file(file_weather_data)"
   ]
  },
  {
   "cell_type": "code",
   "execution_count": 14,
   "id": "a2a2ac1a-3ac8-48d2-8d74-8e6e47a9d0b2",
   "metadata": {},
   "outputs": [
    {
     "data": {
      "text/plain": [
       "'weather_SDGE_9_row_2000000.csv'"
      ]
     },
     "execution_count": 14,
     "metadata": {},
     "output_type": "execute_result"
    }
   ],
   "source": [
    "weather_split_file_list[-1]"
   ]
  },
  {
   "cell_type": "markdown",
   "id": "5bbe320a-6117-4c57-9f51-dede7ab34155",
   "metadata": {
    "tags": []
   },
   "source": [
    "## Weather_data calculation by camera name"
   ]
  },
  {
   "cell_type": "code",
   "execution_count": 15,
   "id": "7ddd1847-6621-4b91-b639-1a8161511d8a",
   "metadata": {},
   "outputs": [
    {
     "data": {
      "text/plain": [
       "159"
      ]
     },
     "execution_count": 15,
     "metadata": {},
     "output_type": "execute_result"
    }
   ],
   "source": [
    "camera_name_unique_list = camera_station_mapping3.camera_name.unique()\n",
    "len(camera_station_mapping3.camera_name.unique())"
   ]
  },
  {
   "cell_type": "markdown",
   "id": "8431f123-e728-4ee6-88ec-cf6df817ccdc",
   "metadata": {
    "tags": []
   },
   "source": [
    "### create weather station folder by camera"
   ]
  },
  {
   "cell_type": "code",
   "execution_count": 16,
   "id": "939085ce-8f0b-4816-9073-72fc7f32b216",
   "metadata": {},
   "outputs": [],
   "source": [
    "camera_data_path = weather_data_file_path + r'\\by_camera_summary'\n",
    "os.chdir(weather_data_file_path)\n",
    "shutil.rmtree(camera_data_path,ignore_errors=True)\n",
    "os.mkdir(\"by_camera_summary\")\n",
    "\n",
    "os.chdir(weather_data_file_path + r\"\\split_files\\ByWeatherStation\")"
   ]
  },
  {
   "cell_type": "code",
   "execution_count": 17,
   "id": "be572ff3-c2b7-4e8a-961f-fd4338e7e5b8",
   "metadata": {},
   "outputs": [],
   "source": [
    "###  remove the station id which donot have any weather_data"
   ]
  },
  {
   "cell_type": "code",
   "execution_count": 18,
   "id": "623b9cba-2c15-4788-b526-32668407f991",
   "metadata": {},
   "outputs": [],
   "source": [
    "list_weather_station_data_csv = os.listdir()\n",
    "weather_station_data_available = []\n",
    "for i in range (len(list_weather_station_data_csv)):\n",
    "    temp1= list_weather_station_data_csv[i].split(\".\")[0]\n",
    "    weather_station_data_available.append(temp1)"
   ]
  },
  {
   "cell_type": "code",
   "execution_count": 19,
   "id": "dd6de823-4066-420d-84c2-12a369176b7f",
   "metadata": {},
   "outputs": [
    {
     "data": {
      "text/plain": [
       "(487, 10)"
      ]
     },
     "execution_count": 19,
     "metadata": {},
     "output_type": "execute_result"
    }
   ],
   "source": [
    "camera_station_mapping3.shape"
   ]
  },
  {
   "cell_type": "code",
   "execution_count": 20,
   "id": "4e2ed445-58f2-442b-94c2-9582c3c7ad65",
   "metadata": {},
   "outputs": [],
   "source": [
    "camera_station_mapping4 = camera_station_mapping3[camera_station_mapping3['stid'].isin(weather_station_data_available)]\n",
    "#print(store_df_filtered)"
   ]
  },
  {
   "cell_type": "code",
   "execution_count": 21,
   "id": "f819e914-901a-4caa-9651-ace650518764",
   "metadata": {},
   "outputs": [
    {
     "data": {
      "text/plain": [
       "(487, 10)"
      ]
     },
     "execution_count": 21,
     "metadata": {},
     "output_type": "execute_result"
    }
   ],
   "source": [
    "camera_station_mapping4.shape"
   ]
  },
  {
   "cell_type": "code",
   "execution_count": 22,
   "id": "c6c249da-8fab-4a2f-b9cc-62d7bd334381",
   "metadata": {},
   "outputs": [
    {
     "data": {
      "text/html": [
       "<div>\n",
       "<style scoped>\n",
       "    .dataframe tbody tr th:only-of-type {\n",
       "        vertical-align: middle;\n",
       "    }\n",
       "\n",
       "    .dataframe tbody tr th {\n",
       "        vertical-align: top;\n",
       "    }\n",
       "\n",
       "    .dataframe thead th {\n",
       "        text-align: right;\n",
       "    }\n",
       "</style>\n",
       "<table border=\"1\" class=\"dataframe\">\n",
       "  <thead>\n",
       "    <tr style=\"text-align: right;\">\n",
       "      <th></th>\n",
       "      <th>camera_id</th>\n",
       "      <th>image_id</th>\n",
       "      <th>stid</th>\n",
       "      <th>shortname</th>\n",
       "      <th>distance_m</th>\n",
       "      <th>distance_mi</th>\n",
       "      <th>is_in_direction</th>\n",
       "      <th>rn</th>\n",
       "      <th>camera_name</th>\n",
       "      <th>distance_mi_inverse</th>\n",
       "    </tr>\n",
       "  </thead>\n",
       "  <tbody>\n",
       "    <tr>\n",
       "      <th>0</th>\n",
       "      <td>hpwren0_unknown direction</td>\n",
       "      <td>tje-1-mobo-c</td>\n",
       "      <td>BFDSD</td>\n",
       "      <td>SDGE</td>\n",
       "      <td>2362.963219</td>\n",
       "      <td>1.468277</td>\n",
       "      <td>NaN</td>\n",
       "      <td>1</td>\n",
       "      <td>tje-1-mobo-c</td>\n",
       "      <td>25.640373</td>\n",
       "    </tr>\n",
       "    <tr>\n",
       "      <th>1</th>\n",
       "      <td>hpwren0_unknown direction</td>\n",
       "      <td>tje-1-mobo-c</td>\n",
       "      <td>CVXSD</td>\n",
       "      <td>SDGE</td>\n",
       "      <td>8161.908209</td>\n",
       "      <td>5.071575</td>\n",
       "      <td>NaN</td>\n",
       "      <td>2</td>\n",
       "      <td>tje-1-mobo-c</td>\n",
       "      <td>22.037076</td>\n",
       "    </tr>\n",
       "    <tr>\n",
       "      <th>2</th>\n",
       "      <td>hpwren0_unknown direction</td>\n",
       "      <td>tje-1-mobo-c</td>\n",
       "      <td>DJZSD</td>\n",
       "      <td>SDGE</td>\n",
       "      <td>10216.081526</td>\n",
       "      <td>6.347979</td>\n",
       "      <td>NaN</td>\n",
       "      <td>3</td>\n",
       "      <td>tje-1-mobo-c</td>\n",
       "      <td>20.760672</td>\n",
       "    </tr>\n",
       "    <tr>\n",
       "      <th>3</th>\n",
       "      <td>hpwren1_north</td>\n",
       "      <td>bm-n-mobo-c</td>\n",
       "      <td>MGDSD</td>\n",
       "      <td>SDGE</td>\n",
       "      <td>4635.802946</td>\n",
       "      <td>2.880554</td>\n",
       "      <td>True</td>\n",
       "      <td>1</td>\n",
       "      <td>bm-n-mobo-c</td>\n",
       "      <td>24.228096</td>\n",
       "    </tr>\n",
       "    <tr>\n",
       "      <th>4</th>\n",
       "      <td>hpwren1_north</td>\n",
       "      <td>bm-n-mobo-c</td>\n",
       "      <td>HP004</td>\n",
       "      <td>HPWREN</td>\n",
       "      <td>5385.340294</td>\n",
       "      <td>3.346295</td>\n",
       "      <td>True</td>\n",
       "      <td>2</td>\n",
       "      <td>bm-n-mobo-c</td>\n",
       "      <td>23.762355</td>\n",
       "    </tr>\n",
       "  </tbody>\n",
       "</table>\n",
       "</div>"
      ],
      "text/plain": [
       "                   camera_id      image_id   stid shortname    distance_m  \\\n",
       "0  hpwren0_unknown direction  tje-1-mobo-c  BFDSD      SDGE   2362.963219   \n",
       "1  hpwren0_unknown direction  tje-1-mobo-c  CVXSD      SDGE   8161.908209   \n",
       "2  hpwren0_unknown direction  tje-1-mobo-c  DJZSD      SDGE  10216.081526   \n",
       "3              hpwren1_north   bm-n-mobo-c  MGDSD      SDGE   4635.802946   \n",
       "4              hpwren1_north   bm-n-mobo-c  HP004    HPWREN   5385.340294   \n",
       "\n",
       "   distance_mi is_in_direction  rn   camera_name  distance_mi_inverse  \n",
       "0     1.468277             NaN   1  tje-1-mobo-c            25.640373  \n",
       "1     5.071575             NaN   2  tje-1-mobo-c            22.037076  \n",
       "2     6.347979             NaN   3  tje-1-mobo-c            20.760672  \n",
       "3     2.880554            True   1   bm-n-mobo-c            24.228096  \n",
       "4     3.346295            True   2   bm-n-mobo-c            23.762355  "
      ]
     },
     "execution_count": 22,
     "metadata": {},
     "output_type": "execute_result"
    }
   ],
   "source": [
    "camera_station_mapping4.head()"
   ]
  },
  {
   "cell_type": "markdown",
   "id": "993e0fa7-be9e-453f-97e6-a7cea52e620c",
   "metadata": {},
   "source": [
    "### Loop through all weather stations to calculate the per camera summary"
   ]
  },
  {
   "cell_type": "code",
   "execution_count": null,
   "id": "95dcb39d-e536-4cf6-952d-182d9299ee27",
   "metadata": {
    "tags": []
   },
   "outputs": [],
   "source": [
    "for i in range (len(camera_name_unique_list)):\n",
    "    # Get the weather station related to camera\n",
    "    camera_name = camera_name_unique_list[i]\n",
    "    weather_station_of_intrest = list(camera_station_mapping4[camera_station_mapping4[\"camera_name\"] == camera_name ].stid.unique())\n",
    "    \n",
    "    #read all the weather station data into single dataframe:\n",
    "    #print(os.listdir())\n",
    "    for j in range (len(weather_station_of_intrest)):    \n",
    "        temp_df = pd.read_csv(weather_station_of_intrest[j] +\".csv\")\n",
    "        if (j == 0):\n",
    "            weather_station_of_intrest_df = temp_df.copy()\n",
    "        else:\n",
    "            weather_station_of_intrest_df =  pd.concat([weather_station_of_intrest_df,temp_df])\n",
    "            \n",
    "    # Stack all the weather data into single \n",
    "    weather_station_of_intrest_df_stacked = pd.melt(weather_station_of_intrest_df, id_vars=['Station_ID', 'Date_Time'],\n",
    "        var_name='weather_parameter_name', value_name='weather_parameter_value')\n",
    "    \n",
    "    # extract key columns from the camera_station mapping file\n",
    "    camera_station_mapping5 = camera_station_mapping4[camera_station_mapping4.camera_name == camera_name]\n",
    "    camera_station_mapping5 = camera_station_mapping5 [[\"camera_name\",\"distance_mi_inverse\", \"stid\"]]\n",
    "    \n",
    "    # join the weather data to mapping file.\n",
    "    weather_station_of_intrest_df_stacked = pd.merge(weather_station_of_intrest_df_stacked, camera_station_mapping5, left_on= \"Station_ID\", right_on= \"stid\")\n",
    "  \n",
    "    #aggregate the columns to find the sum of all the distance per time/weather_parameter.\n",
    "    weather_station_of_intrest_df_pivot = pd.pivot_table (weather_station_of_intrest_df_stacked, values=\"distance_mi_inverse\" , \n",
    "                                                index= ['Date_Time', 'weather_parameter_name'],\n",
    "                                                 aggfunc='sum')\n",
    "    weather_station_of_intrest_df_pivot.reset_index(inplace=True)\n",
    "    weather_station_of_intrest_df_pivot.rename(columns = {'distance_mi_inverse': 'distance_mi_inverse_sum'}, inplace =True)\n",
    "    \n",
    "    \n",
    "    #Join the weighted sum of distance to stacked columns and calculate the weight factor and normalize the weather data. \n",
    "    weather_station_of_intrest_df_stacked_with_weight = pd.merge(weather_station_of_intrest_df_stacked,weather_station_of_intrest_df_pivot, on= ['Date_Time', 'weather_parameter_name'])\n",
    "    weather_station_of_intrest_df_stacked_with_weight['weather_parameter_value_norm'] =  (\n",
    "    weather_station_of_intrest_df_stacked_with_weight['weather_parameter_value'] * weather_station_of_intrest_df_stacked_with_weight['distance_mi_inverse'] \n",
    "    / weather_station_of_intrest_df_stacked_with_weight['distance_mi_inverse_sum'])\n",
    "    \n",
    "    #Round data to nearest 3 digit. (run time is high)\n",
    "    decimals = 4\n",
    "    weather_station_of_intrest_df_stacked_with_weight['weather_parameter_value_norm'] = weather_station_of_intrest_df_stacked_with_weight['weather_parameter_value_norm'].apply(lambda x: round(x, decimals))\n",
    "    \n",
    "    # Calculate the weighted weather parameter value by per camera + Time. \n",
    "    weather_data_per_camera_agg = pd.pivot_table (weather_station_of_intrest_df_stacked_with_weight, values=\"weather_parameter_value_norm\" , \n",
    "                                                index= ['Date_Time', 'camera_name'], columns= 'weather_parameter_name',\n",
    "                                                 aggfunc='sum')\n",
    "    weather_data_per_camera_agg.reset_index(inplace=True)\n",
    "    \n",
    "    weather_data_per_camera_agg_path = camera_data_path + \"\\\\\" + camera_name + r'.csv'\n",
    "    weather_data_per_camera_agg.to_csv(weather_data_per_camera_agg_path,index=False)\n",
    "    #print (i)                "
   ]
  },
  {
   "cell_type": "markdown",
   "id": "48b9c7e1-75fc-4ae2-b13f-46021cb2be4e",
   "metadata": {
    "tags": []
   },
   "source": [
    "### Some debug steps"
   ]
  },
  {
   "cell_type": "code",
   "execution_count": null,
   "id": "7de6448b-3fab-40e8-b25d-40b46bd80b1a",
   "metadata": {},
   "outputs": [],
   "source": [
    "camera_station_mapping3['weather_file_name'] = camera_station_mapping3.stid + \".csv\""
   ]
  },
  {
   "cell_type": "code",
   "execution_count": null,
   "id": "0db50fda-406a-49e8-bcc9-44e6f6c6db2b",
   "metadata": {},
   "outputs": [],
   "source": [
    "available_station_in_mapping = set(camera_station_mapping3.weather_file_name.unique())"
   ]
  },
  {
   "cell_type": "markdown",
   "id": "a9c5cc8f-7ae8-40fa-b530-2f685954a6f0",
   "metadata": {},
   "source": [
    "camera_station_mapping4.head()"
   ]
  },
  {
   "cell_type": "code",
   "execution_count": null,
   "id": "e9542595-cbd0-483e-802f-045da88352fc",
   "metadata": {},
   "outputs": [],
   "source": [
    "os.chdir(weather_data_file_path + r\"\\split_files\\ByWeatherStation\")\n",
    "available_station_in_file = set(os.listdir())"
   ]
  },
  {
   "cell_type": "code",
   "execution_count": null,
   "id": "3b62b068-4cc7-4254-9c40-6d164ae33f9e",
   "metadata": {},
   "outputs": [],
   "source": [
    "missing_file = list (available_station_in_mapping - available_station_in_file)"
   ]
  },
  {
   "cell_type": "code",
   "execution_count": null,
   "id": "7554fca3-ebda-48d8-be8f-2ef7e70aa936",
   "metadata": {},
   "outputs": [],
   "source": [
    "missing_file "
   ]
  },
  {
   "cell_type": "markdown",
   "id": "7aaf04cd-1cde-43e3-8a0a-48cf73bd5266",
   "metadata": {},
   "source": [
    "camera_station_mapping4_missing_weather = camera_station_mapping4[camera_station_mapping4['weather_file_name'].isin(missing_file)]\n",
    "camera_station_mapping4_missing_weather"
   ]
  },
  {
   "cell_type": "markdown",
   "id": "bd2398ae-d583-4ef6-806e-083b7e7a9d4e",
   "metadata": {},
   "source": [
    "camera_station_mapping4_missing_weather['properties.description.id'].unique()"
   ]
  },
  {
   "cell_type": "code",
   "execution_count": null,
   "id": "cb72ab35-6dd2-4af9-91fc-de3f94908774",
   "metadata": {},
   "outputs": [],
   "source": [
    "camera_station_mapping5 = camera_station_mapping3[~camera_station_mapping3['stid'].isin(weather_station_data_available)]\n"
   ]
  },
  {
   "cell_type": "code",
   "execution_count": null,
   "id": "edd7f76b-b0fc-4010-a2d5-9d4b8dad1185",
   "metadata": {},
   "outputs": [],
   "source": [
    "camera_station_mapping5.head()"
   ]
  },
  {
   "cell_type": "code",
   "execution_count": null,
   "id": "635f0f9f-ea7d-4bac-9fc5-8479468ccd9c",
   "metadata": {},
   "outputs": [],
   "source": [
    "camera_station_mapping5.stid.unique()"
   ]
  },
  {
   "cell_type": "code",
   "execution_count": null,
   "id": "c955b589-0eb4-46e1-82a8-3e89d4252911",
   "metadata": {},
   "outputs": [],
   "source": []
  }
 ],
 "metadata": {
  "kernelspec": {
   "display_name": "Python 3 (ipykernel)",
   "language": "python",
   "name": "python3"
  },
  "language_info": {
   "codemirror_mode": {
    "name": "ipython",
    "version": 3
   },
   "file_extension": ".py",
   "mimetype": "text/x-python",
   "name": "python",
   "nbconvert_exporter": "python",
   "pygments_lexer": "ipython3",
   "version": "3.9.7"
  }
 },
 "nbformat": 4,
 "nbformat_minor": 5
}

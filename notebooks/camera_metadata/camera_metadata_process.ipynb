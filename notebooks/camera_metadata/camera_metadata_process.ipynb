{
 "cells": [
  {
   "cell_type": "markdown",
   "metadata": {},
   "source": [
    "# HPWREN Camera Metadata Process (Firemap API)"
   ]
  },
  {
   "cell_type": "markdown",
   "metadata": {},
   "source": [
    "Summary: <br>\n",
    "The HPWREN camera metadata is stored within the San Diego Supercomputer Center and is accessible via the FireMap API.\n",
    "\n",
    "firemap api --> all cam metadata --> filter for hpwren only --> write to csv\n",
    "\n",
    "Open Questions: <br>\n",
    "- Are these active cameras only? (Are there ever historical cameras that are no longer active?)"
   ]
  },
  {
   "cell_type": "markdown",
   "metadata": {},
   "source": [
    "## Get All Camera Metadata From Firemap API"
   ]
  },
  {
   "cell_type": "code",
   "execution_count": 1,
   "metadata": {},
   "outputs": [],
   "source": [
    "import json\n",
    "from datetime import datetime\n",
    "\n",
    "import pandas as pd\n",
    "import pytz\n",
    "import requests"
   ]
  },
  {
   "cell_type": "code",
   "execution_count": 2,
   "metadata": {},
   "outputs": [],
   "source": [
    "BASE_URL = \"https://firemap.sdsc.edu/pylaski/\""
   ]
  },
  {
   "cell_type": "code",
   "execution_count": 3,
   "metadata": {},
   "outputs": [],
   "source": [
    "# Get data for ALL cameras\n",
    "# https://firemap.sdsc.edu/pylaski/stations?camera=only&selection=boundingBox&minLat=0&maxLat=90&minLon=-180&maxLon=0\n",
    "entity = \"stations\"\n",
    "payload = {\n",
    "    \"camera\": \"only\",\n",
    "    \"selection\": \"boundingBox\",\n",
    "    \"minLat\": 0,\n",
    "    \"maxLat\": 90,  # northern hemisphere\n",
    "    \"minLon\": -180,\n",
    "    \"maxLon\": 0,  # western hemisphere\n",
    "}\n",
    "response = requests.get(f\"{BASE_URL}{entity}\", params=payload)"
   ]
  },
  {
   "cell_type": "code",
   "execution_count": 4,
   "metadata": {},
   "outputs": [],
   "source": [
    "if response.status_code in range(200, 299):  # successful response range\n",
    "    response_json = response.json()\n",
    "    features = response_json[\"features\"]\n",
    "else:\n",
    "    # TODO:\n",
    "    # Add error handling\n",
    "    print(\"Error!\")"
   ]
  },
  {
   "cell_type": "code",
   "execution_count": 5,
   "metadata": {},
   "outputs": [
    {
     "name": "stdout",
     "output_type": "stream",
     "text": [
      "Total cameras: 1135\n"
     ]
    }
   ],
   "source": [
    "cameras_df = pd.json_normalize(features)\n",
    "print(f\"Total cameras: {len(cameras_df['properties.description.id'])}\")"
   ]
  },
  {
   "cell_type": "code",
   "execution_count": 6,
   "metadata": {},
   "outputs": [],
   "source": [
    "# view df\n",
    "# cameras_df"
   ]
  },
  {
   "cell_type": "code",
   "execution_count": 7,
   "metadata": {},
   "outputs": [
    {
     "data": {
      "text/plain": [
       "axis      1032\n",
       "hpwren     103\n",
       "Name: 0, dtype: int64"
      ]
     },
     "execution_count": 7,
     "metadata": {},
     "output_type": "execute_result"
    }
   ],
   "source": [
    "# Camera breakdown\n",
    "# all camera metadata either has hpwren or axis prefix\n",
    "cameras_df[\"properties.description.id\"].str.split(r\"_|-\", expand=True)[0].str.extract(\n",
    "    r\"([a-zA-Z]+)\"\n",
    ")[0].str.lower().value_counts()"
   ]
  },
  {
   "cell_type": "markdown",
   "metadata": {},
   "source": [
    "## Filter for HPWREN cameras only"
   ]
  },
  {
   "cell_type": "code",
   "execution_count": 8,
   "metadata": {},
   "outputs": [],
   "source": [
    "# just get hpwren cameras (ignore axis)\n",
    "\n",
    "hpwren_cameras_df = cameras_df[\n",
    "    cameras_df[\"properties.description.id\"]\n",
    "    .str.lower()\n",
    "    .str.contains(\"hpwren\", regex=False)\n",
    "]\n",
    "\n",
    "# dictoinary example below:\n",
    "# hpwren_cameras = []\n",
    "# for feat in features:\n",
    "#     feat_id = feat[\"properties\"][\"description\"][\"id\"]\n",
    "#     if \"hpwren\" in feat_id.lower():\n",
    "#         # print(feat_id)\n",
    "#         hpwren_cameras.append(feat)"
   ]
  },
  {
   "cell_type": "code",
   "execution_count": 9,
   "metadata": {},
   "outputs": [
    {
     "data": {
      "text/plain": [
       "103"
      ]
     },
     "execution_count": 9,
     "metadata": {},
     "output_type": "execute_result"
    }
   ],
   "source": [
    "len(hpwren_cameras_df)"
   ]
  },
  {
   "cell_type": "markdown",
   "metadata": {
    "tags": []
   },
   "source": [
    "## Write camera metadata to raw and processed folders"
   ]
  },
  {
   "cell_type": "code",
   "execution_count": 10,
   "metadata": {},
   "outputs": [],
   "source": [
    "# current_time_str = datetime.now(tz=pytz.UTC).strftime(\"%m/%d/%Y, %H:%M:%S\")\n",
    "current_time_str = datetime.now(tz=pytz.UTC).strftime(\"%Y%m%d_%H_%M_%S\")\n",
    "\n",
    "# all cameras\n",
    "raw_output_path = f\"../../data/raw/camera_metadata.csv\"\n",
    "cameras_df.to_csv(raw_output_path, index=False)\n",
    "\n",
    "# hpwren cameras only\n",
    "processed_output_path = f\"../../data/processed/camera_metadata_hpwren.csv\"\n",
    "hpwren_cameras_df.to_csv(processed_output_path, index=False)"
   ]
  }
 ],
 "metadata": {
  "interpreter": {
   "hash": "62fe6786eab9d0fd5ce455cef135608f427b39adf169a6432cdc5e5137bfb696"
  },
  "kernelspec": {
   "display_name": "Python 3 (ipykernel)",
   "language": "python",
   "name": "python3"
  },
  "language_info": {
   "codemirror_mode": {
    "name": "ipython",
    "version": 3
   },
   "file_extension": ".py",
   "mimetype": "text/x-python",
   "name": "python",
   "nbconvert_exporter": "python",
   "pygments_lexer": "ipython3",
   "version": "3.8.9"
  }
 },
 "nbformat": 4,
 "nbformat_minor": 4
}
